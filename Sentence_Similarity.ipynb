{
  "nbformat": 4,
  "nbformat_minor": 0,
  "metadata": {
    "colab": {
      "provenance": []
    },
    "kernelspec": {
      "name": "python3",
      "display_name": "Python 3"
    },
    "language_info": {
      "name": "python"
    }
  },
  "cells": [
    {
      "cell_type": "code",
      "source": [
        "# !pip install googletrans==4.0.0-rc1\n",
        "# !python -m spacy download fr_core_news_sm\n",
        "# !python -m spacy download en_core_web_md"
      ],
      "metadata": {
        "id": "G8WyxaSMCmVb"
      },
      "execution_count": 1,
      "outputs": []
    },
    {
      "cell_type": "code",
      "source": [
        "import spacy\n",
        "import nltk\n",
        "from googletrans import Translator\n",
        "from nltk.corpus import wordnet\n",
        "\n",
        "# Download required NLTK data\n",
        "nltk.download('wordnet')\n",
        "\n",
        "# Load the spaCy models for English and French\n",
        "nlp_en = spacy.load('en_core_web_sm')\n",
        "nlp_fr = spacy.load('fr_core_news_sm')"
      ],
      "metadata": {
        "colab": {
          "base_uri": "https://localhost:8080/"
        },
        "id": "Os0JZhCcDXCO",
        "outputId": "dc142d71-beee-4917-a46b-700d8a3080a4"
      },
      "execution_count": 2,
      "outputs": [
        {
          "output_type": "stream",
          "name": "stderr",
          "text": [
            "/usr/local/lib/python3.9/dist-packages/torch/cuda/__init__.py:497: UserWarning: Can't initialize NVML\n",
            "  warnings.warn(\"Can't initialize NVML\")\n",
            "[nltk_data] Downloading package wordnet to /root/nltk_data...\n",
            "[nltk_data]   Package wordnet is already up-to-date!\n"
          ]
        }
      ]
    },
    {
      "cell_type": "code",
      "source": [
        "# Define the sentences to be analyzed\n",
        "en_sentence = \"The cat sat on the mat.\"\n",
        "# fr_sentence = \"Le chat s'est assis sur le tapis.\"\n",
        "\n",
        "# Wrong translation - The dog plays with the bone\n",
        "fr_sentence = \"Le chien joue avec l'os\" "
      ],
      "metadata": {
        "id": "XZVb1GS-DW-z"
      },
      "execution_count": 3,
      "outputs": []
    },
    {
      "cell_type": "code",
      "source": [
        "# Use spaCy to parse the English sentence\n",
        "en_doc = nlp_en(en_sentence)\n",
        "\n",
        "# Use spaCy to parse the French sentence\n",
        "fr_doc = nlp_fr(fr_sentence)"
      ],
      "metadata": {
        "id": "ZAj2AlVPDcAm"
      },
      "execution_count": 4,
      "outputs": []
    },
    {
      "cell_type": "code",
      "source": [
        "# Get word pairs with the same parts of speech\n",
        "en_pairs = []\n",
        "fr_pairs = []\n",
        "\n",
        "neglect = [\"DET\",\"PUNCT\"]\n",
        "\n",
        "for en_token in en_doc:\n",
        "    for fr_token in fr_doc:\n",
        "        if en_token.pos_ == fr_token.pos_ and en_token.pos_ not in neglect:\n",
        "            en_pairs.append(en_token.text)\n",
        "            fr_pairs.append(fr_token.text)"
      ],
      "metadata": {
        "id": "bpyJfhTJDfuB"
      },
      "execution_count": 5,
      "outputs": []
    },
    {
      "cell_type": "code",
      "source": [
        "for en_token in en_doc:\n",
        "  print(f\"{en_token} - {en_token.pos_}\")\n",
        "print()\n",
        "for fr_token in fr_doc:\n",
        "  print(f\"{fr_token} - {fr_token.pos_}\")"
      ],
      "metadata": {
        "colab": {
          "base_uri": "https://localhost:8080/"
        },
        "id": "ciX3Bbz4gKoC",
        "outputId": "ed17500a-9699-4689-f535-ff17a90181e1"
      },
      "execution_count": 6,
      "outputs": [
        {
          "output_type": "stream",
          "name": "stdout",
          "text": [
            "The - DET\n",
            "cat - NOUN\n",
            "sat - VERB\n",
            "on - ADP\n",
            "the - DET\n",
            "mat - NOUN\n",
            ". - PUNCT\n",
            "\n",
            "Le - DET\n",
            "chien - NOUN\n",
            "joue - VERB\n",
            "avec - ADP\n",
            "l' - DET\n",
            "os - NOUN\n"
          ]
        }
      ]
    },
    {
      "cell_type": "code",
      "source": [
        "print(en_pairs)\n",
        "print(fr_pairs)"
      ],
      "metadata": {
        "colab": {
          "base_uri": "https://localhost:8080/"
        },
        "id": "0qxQGoPhEDFI",
        "outputId": "d2cabbb1-3994-4038-9aa7-f302ccf4aeb9"
      },
      "execution_count": 7,
      "outputs": [
        {
          "output_type": "stream",
          "name": "stdout",
          "text": [
            "['cat', 'cat', 'sat', 'on', 'mat', 'mat']\n",
            "['chien', 'os', 'joue', 'avec', 'chien', 'os']\n"
          ]
        }
      ]
    },
    {
      "cell_type": "code",
      "source": [
        "# Translate the word pairs to English using Googletrans\n",
        "translator = Translator(service_urls=['translate.google.com'])\n",
        "\n",
        "en_translations = []\n",
        "\n",
        "for fr_pair in fr_pairs:\n",
        "  en_translations.append(translator.translate(fr_pair, src='fr', dest='en').text)"
      ],
      "metadata": {
        "id": "IGGnV-n_CmtH"
      },
      "execution_count": 8,
      "outputs": []
    },
    {
      "cell_type": "code",
      "source": [
        "from nltk.corpus import wordnet as wn\n",
        "import numpy as np\n",
        "\n",
        "nlp = spacy.load(\"en_core_web_md\")\n",
        "\n",
        "def word_similarity(word1, word2):\n",
        "    # Get synsets for both words using WordNet\n",
        "    synsets1 = wn.synsets(word1)\n",
        "    synsets2 = wn.synsets(word2)\n",
        "    \n",
        "    max_sim = 0.0\n",
        "    \n",
        "    # Iterate over all synsets of both words and calculate maximum similarity\n",
        "    for synset1 in synsets1:\n",
        "        for synset2 in synsets2:\n",
        "            sim = synset1.wup_similarity(synset2)\n",
        "            if sim is not None and sim > max_sim:\n",
        "                max_sim = sim\n",
        "\n",
        "    return max_sim"
      ],
      "metadata": {
        "id": "QO_GKoJ7QLDN"
      },
      "execution_count": 9,
      "outputs": []
    },
    {
      "cell_type": "code",
      "source": [
        "# Calculate the semantic similarity between the translated words and the original English words\n",
        "similarity_scores_dict = {}\n",
        "for i in range(len(en_pairs)):\n",
        "    en_word = en_pairs[i].lower()\n",
        "    en_translation = en_translations[i].lower()\n",
        "\n",
        "    if en_word not in similarity_scores_dict.keys():\n",
        "      similarity_scores_dict[en_word] = word_similarity(en_word,en_translation)\n",
        "    else:\n",
        "      similarity_scores_dict[en_word] = max(similarity_scores_dict[en_word],word_similarity(en_word,en_translation))"
      ],
      "metadata": {
        "id": "C-x2bawBSHwo"
      },
      "execution_count": 10,
      "outputs": []
    },
    {
      "cell_type": "code",
      "source": [
        "# Print the results\n",
        "print(\"English word pairs with the same parts of speech:\")\n",
        "print(en_pairs)\n",
        "print()\n",
        "print(\"French word pairs with the same parts of speech:\")\n",
        "print(fr_pairs)\n",
        "print()\n",
        "print(\"English translations of French word pairs:\")\n",
        "print(en_translations)\n",
        "print()\n",
        "print(\"Semantic similarity scores:\")\n",
        "print(similarity_scores_dict)\n",
        "print()\n",
        "print(\"Combined semantic score:\")\n",
        "print(sum(similarity_scores_dict.values())/len(similarity_scores_dict.values()))"
      ],
      "metadata": {
        "colab": {
          "base_uri": "https://localhost:8080/"
        },
        "id": "DTaGvAZ3DnCV",
        "outputId": "d34ad5c0-b7cb-4609-ea91-88c61faebd8f"
      },
      "execution_count": 11,
      "outputs": [
        {
          "output_type": "stream",
          "name": "stdout",
          "text": [
            "English word pairs with the same parts of speech:\n",
            "['cat', 'cat', 'sat', 'on', 'mat', 'mat']\n",
            "\n",
            "French word pairs with the same parts of speech:\n",
            "['chien', 'os', 'joue', 'avec', 'chien', 'os']\n",
            "\n",
            "English translations of French word pairs:\n",
            "['dog', 'bone', 'cheek', 'with', 'dog', 'bone']\n",
            "\n",
            "Semantic similarity scores:\n",
            "{'cat': 0.8571428571428571, 'sat': 0.4, 'on': 0.0, 'mat': 0.6666666666666666}\n",
            "\n",
            "Combined semantic score:\n",
            "0.4809523809523809\n"
          ]
        }
      ]
    }
  ]
}